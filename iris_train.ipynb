{
 "cells": [
  {
   "cell_type": "code",
   "execution_count": 1,
   "id": "6eb34246",
   "metadata": {},
   "outputs": [],
   "source": [
    "import numpy as np\n",
    "import pandas as pd\n",
    "from sklearn import datasets\n",
    "from sklearn.model_selection import train_test_split"
   ]
  },
  {
   "cell_type": "code",
   "execution_count": 2,
   "id": "f56c5358",
   "metadata": {},
   "outputs": [
    {
     "name": "stdout",
     "output_type": "stream",
     "text": [
      "['setosa' 'versicolor' 'virginica']\n"
     ]
    }
   ],
   "source": [
    "iris = datasets.load_iris()\n",
    "X = iris.data #二維\n",
    "y = iris.target #一維\n",
    "y_name = iris.target_names #一維\n",
    "print(y_name)"
   ]
  },
  {
   "cell_type": "code",
   "execution_count": 3,
   "id": "47ea88c5",
   "metadata": {},
   "outputs": [],
   "source": [
    "X_train, X_test, y_train, y_test = train_test_split(X, y,\n",
    "                                                    test_size=0.2,\n",
    "                                                    random_state=421,\n",
    "                                                    stratify=y)"
   ]
  },
  {
   "cell_type": "code",
   "execution_count": 4,
   "id": "6802f7f7",
   "metadata": {},
   "outputs": [],
   "source": [
    "# 因為鳶尾花資料單純 所以沒有做資料縮放及降維"
   ]
  },
  {
   "cell_type": "markdown",
   "id": "6ffe761c",
   "metadata": {},
   "source": [
    "# 分類器訓練"
   ]
  },
  {
   "cell_type": "code",
   "execution_count": 5,
   "id": "57959bf4",
   "metadata": {},
   "outputs": [
    {
     "name": "stdout",
     "output_type": "stream",
     "text": [
      "0.9666666666666667\n"
     ]
    }
   ],
   "source": [
    "from sklearn.svm import SVC\n",
    "from sklearn.metrics import accuracy_score\n",
    "\n",
    "clf01 = SVC()\n",
    "clf01.fit(X_train, y_train)\n",
    "acc01 = accuracy_score(y_test, clf01.predict(X_test))\n",
    "print(acc01)"
   ]
  },
  {
   "cell_type": "code",
   "execution_count": 6,
   "id": "19e7f7b0",
   "metadata": {},
   "outputs": [
    {
     "data": {
      "text/plain": [
       "['models/svm.joblib']"
      ]
     },
     "execution_count": 6,
     "metadata": {},
     "output_type": "execute_result"
    }
   ],
   "source": [
    "import joblib\n",
    "joblib.dump(clf01, 'models/svm.joblib')"
   ]
  },
  {
   "cell_type": "code",
   "execution_count": 7,
   "id": "cbf3e514",
   "metadata": {},
   "outputs": [
    {
     "name": "stdout",
     "output_type": "stream",
     "text": [
      "1.0\n"
     ]
    }
   ],
   "source": [
    "from sklearn.ensemble import RandomForestClassifier\n",
    "\n",
    "clf02 = RandomForestClassifier(n_estimators=700,criterion='entropy',random_state=26)\n",
    "clf02.fit(X_train, y_train)\n",
    "acc02 = accuracy_score(y_test, clf02.predict(X_test))\n",
    "print(acc02)"
   ]
  },
  {
   "cell_type": "code",
   "execution_count": 8,
   "id": "f00a3fda",
   "metadata": {},
   "outputs": [
    {
     "data": {
      "text/plain": [
       "['models/RF.joblib']"
      ]
     },
     "execution_count": 8,
     "metadata": {},
     "output_type": "execute_result"
    }
   ],
   "source": [
    "import joblib\n",
    "joblib.dump(clf02, 'models/RF.joblib')"
   ]
  },
  {
   "cell_type": "code",
   "execution_count": 9,
   "id": "8354f139",
   "metadata": {},
   "outputs": [
    {
     "name": "stdout",
     "output_type": "stream",
     "text": [
      "1.0\n"
     ]
    }
   ],
   "source": [
    "from sklearn.neighbors import KNeighborsClassifier\n",
    "\n",
    "clf03 = KNeighborsClassifier(n_neighbors=5)\n",
    "clf03.fit(X_train, y_train)\n",
    "acc03 = accuracy_score(y_test, clf03.predict(X_test))\n",
    "print(acc03)\n"
   ]
  },
  {
   "cell_type": "code",
   "execution_count": 10,
   "id": "5a0c70dc",
   "metadata": {},
   "outputs": [
    {
     "data": {
      "text/plain": [
       "['models/knn.joblib']"
      ]
     },
     "execution_count": 10,
     "metadata": {},
     "output_type": "execute_result"
    }
   ],
   "source": [
    "import joblib\n",
    "joblib.dump(clf03, 'models/knn.joblib')"
   ]
  },
  {
   "cell_type": "code",
   "execution_count": 11,
   "id": "8bfde112",
   "metadata": {},
   "outputs": [
    {
     "name": "stdout",
     "output_type": "stream",
     "text": [
      "1.0\n"
     ]
    },
    {
     "name": "stderr",
     "output_type": "stream",
     "text": [
      "c:\\Users\\student\\AppData\\Local\\Programs\\Python\\Python312\\Lib\\site-packages\\sklearn\\linear_model\\_logistic.py:469: ConvergenceWarning: lbfgs failed to converge (status=1):\n",
      "STOP: TOTAL NO. of ITERATIONS REACHED LIMIT.\n",
      "\n",
      "Increase the number of iterations (max_iter) or scale the data as shown in:\n",
      "    https://scikit-learn.org/stable/modules/preprocessing.html\n",
      "Please also refer to the documentation for alternative solver options:\n",
      "    https://scikit-learn.org/stable/modules/linear_model.html#logistic-regression\n",
      "  n_iter_i = _check_optimize_result(\n"
     ]
    }
   ],
   "source": [
    "from sklearn.linear_model import LogisticRegression\n",
    "\n",
    "clf04 = LogisticRegression()\n",
    "clf04.fit(X_train, y_train)\n",
    "acc04 = accuracy_score(y_test, clf04.predict(X_test))\n",
    "print(acc04)"
   ]
  },
  {
   "cell_type": "code",
   "execution_count": 12,
   "id": "aa03a621",
   "metadata": {},
   "outputs": [
    {
     "data": {
      "text/plain": [
       "['models/LR.joblib']"
      ]
     },
     "execution_count": 12,
     "metadata": {},
     "output_type": "execute_result"
    }
   ],
   "source": [
    "import joblib\n",
    "joblib.dump(clf04, 'models/LR.joblib')"
   ]
  }
 ],
 "metadata": {
  "kernelspec": {
   "display_name": "Python 3",
   "language": "python",
   "name": "python3"
  },
  "language_info": {
   "codemirror_mode": {
    "name": "ipython",
    "version": 3
   },
   "file_extension": ".py",
   "mimetype": "text/x-python",
   "name": "python",
   "nbconvert_exporter": "python",
   "pygments_lexer": "ipython3",
   "version": "3.12.10"
  }
 },
 "nbformat": 4,
 "nbformat_minor": 5
}
