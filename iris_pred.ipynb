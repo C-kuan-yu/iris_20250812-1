{
 "cells": [
  {
   "cell_type": "code",
   "execution_count": 1,
   "id": "4fa82cc4",
   "metadata": {},
   "outputs": [],
   "source": [
    "import joblib\n",
    "import pandas as pd"
   ]
  },
  {
   "cell_type": "code",
   "execution_count": 2,
   "id": "15499431",
   "metadata": {},
   "outputs": [],
   "source": [
    "svm = joblib.load('models/svm.joblib')\n",
    "rf = joblib.load('models/RF.joblib')\n",
    "knn = joblib.load('models/knn.joblib')\n",
    "lr = joblib.load('models/LR.joblib')"
   ]
  },
  {
   "cell_type": "code",
   "execution_count": 4,
   "id": "5ca32a1d",
   "metadata": {},
   "outputs": [
    {
     "name": "stdout",
     "output_type": "stream",
     "text": [
      "<class 'pandas.core.frame.DataFrame'>\n",
      "RangeIndex: 150 entries, 0 to 149\n",
      "Data columns (total 5 columns):\n",
      " #   Column        Non-Null Count  Dtype  \n",
      "---  ------        --------------  -----  \n",
      " 0   sepal.length  150 non-null    float64\n",
      " 1   sepal.width   150 non-null    float64\n",
      " 2   petal.length  150 non-null    float64\n",
      " 3   petal.width   150 non-null    float64\n",
      " 4   variety       150 non-null    object \n",
      "dtypes: float64(4), object(1)\n",
      "memory usage: 6.0+ KB\n",
      "None\n"
     ]
    }
   ],
   "source": [
    "df = pd.read_csv('iris.csv')\n",
    "print(df.info())"
   ]
  },
  {
   "cell_type": "code",
   "execution_count": 5,
   "id": "2f501721",
   "metadata": {},
   "outputs": [
    {
     "name": "stdout",
     "output_type": "stream",
     "text": [
      "['Setosa' 'Versicolor' 'Virginica']\n"
     ]
    }
   ],
   "source": [
    "print(df['variety'].unique())"
   ]
  },
  {
   "cell_type": "code",
   "execution_count": null,
   "id": "0717ffa0",
   "metadata": {},
   "outputs": [],
   "source": [
    "c = {'Setosa':0, 'Versicolor':1, 'Virginica':2}\n",
    "df['variety2'] = df['variety'].map(c)\n",
    "# 文字轉數字"
   ]
  },
  {
   "cell_type": "code",
   "execution_count": null,
   "id": "f16f6abf",
   "metadata": {},
   "outputs": [
    {
     "name": "stdout",
     "output_type": "stream",
     "text": [
      "[0 0 0 1 1 1 1 1]\n"
     ]
    }
   ],
   "source": [
    "print(knn.predict(df.iloc[47:55,0:4].values)) #欄位47~55 可任意改，特徵0~4 不能少"
   ]
  }
 ],
 "metadata": {
  "kernelspec": {
   "display_name": "Python 3",
   "language": "python",
   "name": "python3"
  },
  "language_info": {
   "codemirror_mode": {
    "name": "ipython",
    "version": 3
   },
   "file_extension": ".py",
   "mimetype": "text/x-python",
   "name": "python",
   "nbconvert_exporter": "python",
   "pygments_lexer": "ipython3",
   "version": "3.12.10"
  }
 },
 "nbformat": 4,
 "nbformat_minor": 5
}
